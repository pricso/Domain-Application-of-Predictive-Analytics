{
 "cells": [
  {
   "cell_type": "code",
   "execution_count": 1,
   "id": "bf590fca",
   "metadata": {
    "scrolled": true
   },
   "outputs": [],
   "source": [
    "import pandas as pd\n",
    "from sklearn.model_selection import train_test_split\n",
    "from sklearn.ensemble import RandomForestClassifier\n",
    "from sklearn.metrics import accuracy_score"
   ]
  },
  {
   "cell_type": "code",
   "execution_count": 2,
   "id": "a1e9f896",
   "metadata": {},
   "outputs": [],
   "source": [
    "df = pd.read_excel('contest_data_copy (1).xlsx')" 
   ]
  },
  {
   "cell_type": "code",
   "execution_count": 3,
   "id": "f47baede",
   "metadata": {},
   "outputs": [],
   "source": [
    "# Checking for any non-numeric values and converting them\n",
    "df.replace('-', pd.NA, inplace=True)  "
   ]
  },
  {
   "cell_type": "code",
   "execution_count": 4,
   "id": "e8d59880",
   "metadata": {},
   "outputs": [],
   "source": [
    "# Convert all feature columns to numeric\n",
    "for col in ['BPM', 'energy', 'danceability', 'acousticness', 'instrumentalness', 'liveness', 'speechiness', 'happiness', 'loudness']:\n",
    "    df[col] = pd.to_numeric(df[col], errors='coerce')"
   ]
  },
  {
   "cell_type": "code",
   "execution_count": 5,
   "id": "8a2ae8ef",
   "metadata": {},
   "outputs": [],
   "source": [
    "# Imputing missing values \n",
    "df.fillna(method='ffill', inplace=True)"
   ]
  },
  {
   "cell_type": "code",
   "execution_count": 6,
   "id": "ebac1b62",
   "metadata": {},
   "outputs": [],
   "source": [
    "key_dummies = pd.get_dummies(df['key'], prefix='key')\n",
    "df = pd.concat([df, key_dummies], axis=1)"
   ]
  },
  {
   "cell_type": "code",
   "execution_count": 7,
   "id": "68c559d6",
   "metadata": {},
   "outputs": [],
   "source": [
    "base_features = ['BPM', 'energy', 'danceability', 'acousticness', 'instrumentalness', 'liveness', 'speechiness', 'happiness', 'loudness']\n",
    "key_features = key_dummies.columns.tolist()\n",
    "features = base_features + key_features\n",
    "df['winner'] = (df['final_place'] == 1).astype(int)"
   ]
  },
  {
   "cell_type": "code",
   "execution_count": 8,
   "id": "9bc11a23",
   "metadata": {},
   "outputs": [],
   "source": [
    "# Separating the dataset into historical (2009-2023) and future (2024) data\n",
    "historical_data = df[df['year'] < 2024]\n",
    "future_data = df[df['year'] == 2024]"
   ]
  },
  {
   "cell_type": "code",
   "execution_count": 9,
   "id": "9e75fbac",
   "metadata": {},
   "outputs": [],
   "source": [
    "# Preparing the historical data (data before 2024)\n",
    "X_historical = historical_data[features]\n",
    "y_historical = historical_data['winner']"
   ]
  },
  {
   "cell_type": "code",
   "execution_count": 10,
   "id": "efa38ce7",
   "metadata": {},
   "outputs": [
    {
     "data": {
      "text/html": [
       "<style>#sk-container-id-1 {color: black;background-color: white;}#sk-container-id-1 pre{padding: 0;}#sk-container-id-1 div.sk-toggleable {background-color: white;}#sk-container-id-1 label.sk-toggleable__label {cursor: pointer;display: block;width: 100%;margin-bottom: 0;padding: 0.3em;box-sizing: border-box;text-align: center;}#sk-container-id-1 label.sk-toggleable__label-arrow:before {content: \"▸\";float: left;margin-right: 0.25em;color: #696969;}#sk-container-id-1 label.sk-toggleable__label-arrow:hover:before {color: black;}#sk-container-id-1 div.sk-estimator:hover label.sk-toggleable__label-arrow:before {color: black;}#sk-container-id-1 div.sk-toggleable__content {max-height: 0;max-width: 0;overflow: hidden;text-align: left;background-color: #f0f8ff;}#sk-container-id-1 div.sk-toggleable__content pre {margin: 0.2em;color: black;border-radius: 0.25em;background-color: #f0f8ff;}#sk-container-id-1 input.sk-toggleable__control:checked~div.sk-toggleable__content {max-height: 200px;max-width: 100%;overflow: auto;}#sk-container-id-1 input.sk-toggleable__control:checked~label.sk-toggleable__label-arrow:before {content: \"▾\";}#sk-container-id-1 div.sk-estimator input.sk-toggleable__control:checked~label.sk-toggleable__label {background-color: #d4ebff;}#sk-container-id-1 div.sk-label input.sk-toggleable__control:checked~label.sk-toggleable__label {background-color: #d4ebff;}#sk-container-id-1 input.sk-hidden--visually {border: 0;clip: rect(1px 1px 1px 1px);clip: rect(1px, 1px, 1px, 1px);height: 1px;margin: -1px;overflow: hidden;padding: 0;position: absolute;width: 1px;}#sk-container-id-1 div.sk-estimator {font-family: monospace;background-color: #f0f8ff;border: 1px dotted black;border-radius: 0.25em;box-sizing: border-box;margin-bottom: 0.5em;}#sk-container-id-1 div.sk-estimator:hover {background-color: #d4ebff;}#sk-container-id-1 div.sk-parallel-item::after {content: \"\";width: 100%;border-bottom: 1px solid gray;flex-grow: 1;}#sk-container-id-1 div.sk-label:hover label.sk-toggleable__label {background-color: #d4ebff;}#sk-container-id-1 div.sk-serial::before {content: \"\";position: absolute;border-left: 1px solid gray;box-sizing: border-box;top: 0;bottom: 0;left: 50%;z-index: 0;}#sk-container-id-1 div.sk-serial {display: flex;flex-direction: column;align-items: center;background-color: white;padding-right: 0.2em;padding-left: 0.2em;position: relative;}#sk-container-id-1 div.sk-item {position: relative;z-index: 1;}#sk-container-id-1 div.sk-parallel {display: flex;align-items: stretch;justify-content: center;background-color: white;position: relative;}#sk-container-id-1 div.sk-item::before, #sk-container-id-1 div.sk-parallel-item::before {content: \"\";position: absolute;border-left: 1px solid gray;box-sizing: border-box;top: 0;bottom: 0;left: 50%;z-index: -1;}#sk-container-id-1 div.sk-parallel-item {display: flex;flex-direction: column;z-index: 1;position: relative;background-color: white;}#sk-container-id-1 div.sk-parallel-item:first-child::after {align-self: flex-end;width: 50%;}#sk-container-id-1 div.sk-parallel-item:last-child::after {align-self: flex-start;width: 50%;}#sk-container-id-1 div.sk-parallel-item:only-child::after {width: 0;}#sk-container-id-1 div.sk-dashed-wrapped {border: 1px dashed gray;margin: 0 0.4em 0.5em 0.4em;box-sizing: border-box;padding-bottom: 0.4em;background-color: white;}#sk-container-id-1 div.sk-label label {font-family: monospace;font-weight: bold;display: inline-block;line-height: 1.2em;}#sk-container-id-1 div.sk-label-container {text-align: center;}#sk-container-id-1 div.sk-container {/* jupyter's `normalize.less` sets `[hidden] { display: none; }` but bootstrap.min.css set `[hidden] { display: none !important; }` so we also need the `!important` here to be able to override the default hidden behavior on the sphinx rendered scikit-learn.org. See: https://github.com/scikit-learn/scikit-learn/issues/21755 */display: inline-block !important;position: relative;}#sk-container-id-1 div.sk-text-repr-fallback {display: none;}</style><div id=\"sk-container-id-1\" class=\"sk-top-container\"><div class=\"sk-text-repr-fallback\"><pre>RandomForestClassifier(random_state=42)</pre><b>In a Jupyter environment, please rerun this cell to show the HTML representation or trust the notebook. <br />On GitHub, the HTML representation is unable to render, please try loading this page with nbviewer.org.</b></div><div class=\"sk-container\" hidden><div class=\"sk-item\"><div class=\"sk-estimator sk-toggleable\"><input class=\"sk-toggleable__control sk-hidden--visually\" id=\"sk-estimator-id-1\" type=\"checkbox\" checked><label for=\"sk-estimator-id-1\" class=\"sk-toggleable__label sk-toggleable__label-arrow\">RandomForestClassifier</label><div class=\"sk-toggleable__content\"><pre>RandomForestClassifier(random_state=42)</pre></div></div></div></div></div>"
      ],
      "text/plain": [
       "RandomForestClassifier(random_state=42)"
      ]
     },
     "execution_count": 10,
     "metadata": {},
     "output_type": "execute_result"
    }
   ],
   "source": [
    "# Training the model on historical data\n",
    "model = RandomForestClassifier(n_estimators=100, random_state=42)\n",
    "model.fit(X_historical, y_historical)"
   ]
  },
  {
   "cell_type": "code",
   "execution_count": 11,
   "id": "9a94b1f1",
   "metadata": {},
   "outputs": [],
   "source": [
    "# Preparing features for 2024 predictions\n",
    "X_future = future_data[features]"
   ]
  },
  {
   "cell_type": "code",
   "execution_count": 12,
   "id": "2d936176",
   "metadata": {},
   "outputs": [
    {
     "name": "stderr",
     "output_type": "stream",
     "text": [
      "C:\\Users\\Preena\\AppData\\Local\\Temp\\ipykernel_26484\\704289727.py:2: SettingWithCopyWarning: \n",
      "A value is trying to be set on a copy of a slice from a DataFrame.\n",
      "Try using .loc[row_indexer,col_indexer] = value instead\n",
      "\n",
      "See the caveats in the documentation: https://pandas.pydata.org/pandas-docs/stable/user_guide/indexing.html#returning-a-view-versus-a-copy\n",
      "  future_data['winning_chance'] = model.predict_proba(X_future)[:, 1]\n"
     ]
    }
   ],
   "source": [
    "# Predicting the winning chances for 2024 entries\n",
    "future_data['winning_chance'] = model.predict_proba(X_future)[:, 1]"
   ]
  },
  {
   "cell_type": "code",
   "execution_count": 14,
   "id": "f78d9271",
   "metadata": {},
   "outputs": [
    {
     "name": "stdout",
     "output_type": "stream",
     "text": [
      "       country         artist_name  \\\n",
      "1      Armenia            Ladaniva   \n",
      "10     Estonia  5MIINUST x Puuluup   \n",
      "13     Georgia     Nutsa Buzaladze   \n",
      "29  San Marino              MEGARA   \n",
      "21   Lithuania      Silvester Belt   \n",
      "\n",
      "                                            song_name  winning_chance  \n",
      "1                                                Jako        0.180000  \n",
      "10  (nendest) narkootikumidest ei tea me (küll) mi...        0.170000  \n",
      "13                                        Firefighter        0.163333  \n",
      "29                                           11:11:00        0.110000  \n",
      "21                                            Luktelk        0.110000  \n"
     ]
    },
    {
     "name": "stderr",
     "output_type": "stream",
     "text": [
      "C:\\Users\\Preena\\AppData\\Local\\Temp\\ipykernel_26484\\2017005408.py:3: SettingWithCopyWarning: \n",
      "A value is trying to be set on a copy of a slice from a DataFrame\n",
      "\n",
      "See the caveats in the documentation: https://pandas.pydata.org/pandas-docs/stable/user_guide/indexing.html#returning-a-view-versus-a-copy\n",
      "  predicted_winners.sort_values(by='winning_chance', ascending=False, inplace=True)\n"
     ]
    }
   ],
   "source": [
    "# Displaying the top 5 most likely winners for 2024\n",
    "predicted_winners = future_data[['country', 'artist_name', 'song_name', 'winning_chance']]\n",
    "predicted_winners.sort_values(by='winning_chance', ascending=False, inplace=True)\n",
    "print(predicted_winners.head())"
   ]
  },
  {
   "cell_type": "code",
   "execution_count": null,
   "id": "8b34706a",
   "metadata": {},
   "outputs": [],
   "source": []
  }
 ],
 "metadata": {
  "kernelspec": {
   "display_name": "Python 3 (ipykernel)",
   "language": "python",
   "name": "python3"
  },
  "language_info": {
   "codemirror_mode": {
    "name": "ipython",
    "version": 3
   },
   "file_extension": ".py",
   "mimetype": "text/x-python",
   "name": "python",
   "nbconvert_exporter": "python",
   "pygments_lexer": "ipython3",
   "version": "3.11.4"
  }
 },
 "nbformat": 4,
 "nbformat_minor": 5
}
